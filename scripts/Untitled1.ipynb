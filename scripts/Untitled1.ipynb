{
 "cells": [
  {
   "cell_type": "code",
   "execution_count": 1,
   "id": "f39e7ce3-9398-4899-b04b-877c1eed4b25",
   "metadata": {},
   "outputs": [
    {
     "name": "stdout",
     "output_type": "stream",
     "text": [
      "Note: you may need to restart the kernel to use updated packages.\n"
     ]
    }
   ],
   "source": [
    "%pip install -q --no-warn-conflicts malariagen_data"
   ]
  },
  {
   "cell_type": "code",
   "execution_count": 2,
   "id": "df306d31-1022-4b83-b94e-5fd43be5b394",
   "metadata": {},
   "outputs": [
    {
     "data": {
      "text/html": [
       "<img width=\"80%\" height=\"80%\"src=\"https://vobs-resources.cog.sanger.ac.uk/training/img/workshop-2/w2m4-1.png\"/>\n"
      ],
      "text/plain": [
       "<IPython.core.display.HTML object>"
      ]
     },
     "metadata": {},
     "output_type": "display_data"
    }
   ],
   "source": [
    "%%html\n",
    "<img width=\"80%\" height=\"80%\"src=\"https://vobs-resources.cog.sanger.ac.uk/training/img/workshop-2/w2m4-1.png\"/>"
   ]
  },
  {
   "cell_type": "code",
   "execution_count": null,
   "id": "050b83f5-d322-4d39-9380-fbb3e9d30061",
   "metadata": {},
   "outputs": [],
   "source": []
  }
 ],
 "metadata": {
  "kernelspec": {
   "display_name": "Python 3 (ipykernel)",
   "language": "python",
   "name": "python3"
  },
  "language_info": {
   "codemirror_mode": {
    "name": "ipython",
    "version": 3
   },
   "file_extension": ".py",
   "mimetype": "text/x-python",
   "name": "python",
   "nbconvert_exporter": "python",
   "pygments_lexer": "ipython3",
   "version": "3.13.0"
  }
 },
 "nbformat": 4,
 "nbformat_minor": 5
}
