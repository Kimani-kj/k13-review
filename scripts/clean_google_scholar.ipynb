{
 "cells": [
  {
   "cell_type": "markdown",
   "id": "eb3f8c08-2063-4d1c-bcb0-23e67465a165",
   "metadata": {},
   "source": [
    "## This notebook cleans papers imported from Google Scholar."
   ]
  },
  {
   "cell_type": "markdown",
   "id": "b4c48e15-4386-488c-a1b6-984b6c63e87b",
   "metadata": {},
   "source": [
    "### Importing libraries"
   ]
  },
  {
   "cell_type": "code",
   "execution_count": 4,
   "id": "70aafacb-d4c6-46da-aaea-8cd1f10c8a16",
   "metadata": {},
   "outputs": [
    {
     "ename": "SyntaxError",
     "evalue": "invalid syntax (581980377.py, line 1)",
     "output_type": "error",
     "traceback": [
      "\u001b[0;36m  Cell \u001b[0;32mIn[4], line 1\u001b[0;36m\u001b[0m\n\u001b[0;31m    python -m spacy download en_core_web_sm\u001b[0m\n\u001b[0m              ^\u001b[0m\n\u001b[0;31mSyntaxError\u001b[0m\u001b[0;31m:\u001b[0m invalid syntax\n"
     ]
    }
   ],
   "source": [
    "python -m spacy download en_core_web_sm"
   ]
  },
  {
   "cell_type": "code",
   "execution_count": 93,
   "id": "762905a0-7bb3-469f-b666-bff99bcce0af",
   "metadata": {},
   "outputs": [
    {
     "name": "stdout",
     "output_type": "stream",
     "text": [
      "Collecting spacy\n",
      "  Downloading spacy-3.8.2-cp312-cp312-manylinux_2_17_x86_64.manylinux2014_x86_64.whl.metadata (27 kB)\n",
      "Collecting spacy-legacy<3.1.0,>=3.0.11 (from spacy)\n",
      "  Downloading spacy_legacy-3.0.12-py2.py3-none-any.whl.metadata (2.8 kB)\n",
      "Collecting spacy-loggers<2.0.0,>=1.0.0 (from spacy)\n",
      "  Downloading spacy_loggers-1.0.5-py3-none-any.whl.metadata (23 kB)\n",
      "Collecting murmurhash<1.1.0,>=0.28.0 (from spacy)\n",
      "  Downloading murmurhash-1.0.10-cp312-cp312-manylinux_2_5_x86_64.manylinux1_x86_64.manylinux_2_17_x86_64.manylinux2014_x86_64.whl.metadata (2.0 kB)\n",
      "Collecting cymem<2.1.0,>=2.0.2 (from spacy)\n",
      "  Downloading cymem-2.0.8-cp312-cp312-manylinux_2_17_x86_64.manylinux2014_x86_64.whl.metadata (8.4 kB)\n",
      "Collecting preshed<3.1.0,>=3.0.2 (from spacy)\n",
      "  Downloading preshed-3.0.9-cp312-cp312-manylinux_2_5_x86_64.manylinux1_x86_64.manylinux_2_17_x86_64.manylinux2014_x86_64.whl.metadata (2.2 kB)\n",
      "Collecting thinc<8.4.0,>=8.3.0 (from spacy)\n",
      "  Downloading thinc-8.3.2-cp312-cp312-manylinux_2_17_x86_64.manylinux2014_x86_64.whl.metadata (15 kB)\n",
      "Collecting wasabi<1.2.0,>=0.9.1 (from spacy)\n",
      "  Downloading wasabi-1.1.3-py3-none-any.whl.metadata (28 kB)\n",
      "Collecting srsly<3.0.0,>=2.4.3 (from spacy)\n",
      "  Downloading srsly-2.4.8-cp312-cp312-manylinux_2_17_x86_64.manylinux2014_x86_64.whl.metadata (20 kB)\n",
      "Collecting catalogue<2.1.0,>=2.0.6 (from spacy)\n",
      "  Downloading catalogue-2.0.10-py3-none-any.whl.metadata (14 kB)\n",
      "Collecting weasel<0.5.0,>=0.1.0 (from spacy)\n",
      "  Downloading weasel-0.4.1-py3-none-any.whl.metadata (4.6 kB)\n",
      "Collecting typer<1.0.0,>=0.3.0 (from spacy)\n",
      "  Downloading typer-0.12.5-py3-none-any.whl.metadata (15 kB)\n",
      "Requirement already satisfied: tqdm<5.0.0,>=4.38.0 in /home/kimani/miniconda3/lib/python3.12/site-packages (from spacy) (4.66.4)\n",
      "Requirement already satisfied: requests<3.0.0,>=2.13.0 in /home/kimani/miniconda3/lib/python3.12/site-packages (from spacy) (2.32.3)\n",
      "Collecting pydantic!=1.8,!=1.8.1,<3.0.0,>=1.7.4 (from spacy)\n",
      "  Downloading pydantic-2.9.2-py3-none-any.whl.metadata (149 kB)\n",
      "Requirement already satisfied: jinja2 in /home/kimani/miniconda3/lib/python3.12/site-packages (from spacy) (3.1.4)\n",
      "Requirement already satisfied: setuptools in /home/kimani/miniconda3/lib/python3.12/site-packages (from spacy) (72.1.0)\n",
      "Requirement already satisfied: packaging>=20.0 in /home/kimani/miniconda3/lib/python3.12/site-packages (from spacy) (24.1)\n",
      "Collecting langcodes<4.0.0,>=3.2.0 (from spacy)\n",
      "  Downloading langcodes-3.4.1-py3-none-any.whl.metadata (29 kB)\n",
      "Requirement already satisfied: numpy>=1.19.0 in /home/kimani/miniconda3/lib/python3.12/site-packages (from spacy) (2.1.2)\n",
      "Collecting language-data>=1.2 (from langcodes<4.0.0,>=3.2.0->spacy)\n",
      "  Downloading language_data-1.2.0-py3-none-any.whl.metadata (4.3 kB)\n",
      "Collecting annotated-types>=0.6.0 (from pydantic!=1.8,!=1.8.1,<3.0.0,>=1.7.4->spacy)\n",
      "  Downloading annotated_types-0.7.0-py3-none-any.whl.metadata (15 kB)\n",
      "Collecting pydantic-core==2.23.4 (from pydantic!=1.8,!=1.8.1,<3.0.0,>=1.7.4->spacy)\n",
      "  Downloading pydantic_core-2.23.4-cp312-cp312-manylinux_2_17_x86_64.manylinux2014_x86_64.whl.metadata (6.6 kB)\n",
      "Requirement already satisfied: typing-extensions>=4.6.1 in /home/kimani/miniconda3/lib/python3.12/site-packages (from pydantic!=1.8,!=1.8.1,<3.0.0,>=1.7.4->spacy) (4.11.0)\n",
      "Requirement already satisfied: charset-normalizer<4,>=2 in /home/kimani/miniconda3/lib/python3.12/site-packages (from requests<3.0.0,>=2.13.0->spacy) (3.3.2)\n",
      "Requirement already satisfied: idna<4,>=2.5 in /home/kimani/miniconda3/lib/python3.12/site-packages (from requests<3.0.0,>=2.13.0->spacy) (3.7)\n",
      "Requirement already satisfied: urllib3<3,>=1.21.1 in /home/kimani/miniconda3/lib/python3.12/site-packages (from requests<3.0.0,>=2.13.0->spacy) (2.2.2)\n",
      "Requirement already satisfied: certifi>=2017.4.17 in /home/kimani/miniconda3/lib/python3.12/site-packages (from requests<3.0.0,>=2.13.0->spacy) (2024.8.30)\n",
      "Collecting blis<1.1.0,>=1.0.0 (from thinc<8.4.0,>=8.3.0->spacy)\n",
      "  Downloading blis-1.0.1-cp312-cp312-manylinux_2_17_x86_64.manylinux2014_x86_64.whl.metadata (7.6 kB)\n",
      "Collecting confection<1.0.0,>=0.0.1 (from thinc<8.4.0,>=8.3.0->spacy)\n",
      "  Downloading confection-0.1.5-py3-none-any.whl.metadata (19 kB)\n",
      "Collecting numpy>=1.19.0 (from spacy)\n",
      "  Downloading numpy-2.0.2-cp312-cp312-manylinux_2_17_x86_64.manylinux2014_x86_64.whl.metadata (60 kB)\n",
      "Collecting click>=8.0.0 (from typer<1.0.0,>=0.3.0->spacy)\n",
      "  Downloading click-8.1.7-py3-none-any.whl.metadata (3.0 kB)\n",
      "Collecting shellingham>=1.3.0 (from typer<1.0.0,>=0.3.0->spacy)\n",
      "  Downloading shellingham-1.5.4-py2.py3-none-any.whl.metadata (3.5 kB)\n",
      "Collecting rich>=10.11.0 (from typer<1.0.0,>=0.3.0->spacy)\n",
      "  Downloading rich-13.9.3-py3-none-any.whl.metadata (18 kB)\n",
      "Collecting cloudpathlib<1.0.0,>=0.7.0 (from weasel<0.5.0,>=0.1.0->spacy)\n",
      "  Downloading cloudpathlib-0.20.0-py3-none-any.whl.metadata (14 kB)\n",
      "Collecting smart-open<8.0.0,>=5.2.1 (from weasel<0.5.0,>=0.1.0->spacy)\n",
      "  Downloading smart_open-7.0.5-py3-none-any.whl.metadata (24 kB)\n",
      "Requirement already satisfied: MarkupSafe>=2.0 in /home/kimani/miniconda3/lib/python3.12/site-packages (from jinja2->spacy) (2.1.3)\n",
      "Collecting marisa-trie>=0.7.7 (from language-data>=1.2->langcodes<4.0.0,>=3.2.0->spacy)\n",
      "  Downloading marisa_trie-1.2.1-cp312-cp312-manylinux_2_17_x86_64.manylinux2014_x86_64.whl.metadata (9.0 kB)\n",
      "Collecting markdown-it-py>=2.2.0 (from rich>=10.11.0->typer<1.0.0,>=0.3.0->spacy)\n",
      "  Downloading markdown_it_py-3.0.0-py3-none-any.whl.metadata (6.9 kB)\n",
      "Requirement already satisfied: pygments<3.0.0,>=2.13.0 in /home/kimani/miniconda3/lib/python3.12/site-packages (from rich>=10.11.0->typer<1.0.0,>=0.3.0->spacy) (2.15.1)\n",
      "Collecting wrapt (from smart-open<8.0.0,>=5.2.1->weasel<0.5.0,>=0.1.0->spacy)\n",
      "  Downloading wrapt-1.16.0-cp312-cp312-manylinux_2_5_x86_64.manylinux1_x86_64.manylinux_2_17_x86_64.manylinux2014_x86_64.whl.metadata (6.6 kB)\n",
      "Collecting mdurl~=0.1 (from markdown-it-py>=2.2.0->rich>=10.11.0->typer<1.0.0,>=0.3.0->spacy)\n",
      "  Downloading mdurl-0.1.2-py3-none-any.whl.metadata (1.6 kB)\n",
      "Downloading spacy-3.8.2-cp312-cp312-manylinux_2_17_x86_64.manylinux2014_x86_64.whl (31.8 MB)\n",
      "\u001b[2K   \u001b[38;2;114;156;31m━━━━━━━━━━━━━━━━━━━━━━━━━━━━━━━━━━━━━━━━\u001b[0m \u001b[32m31.8/31.8 MB\u001b[0m \u001b[31m10.0 MB/s\u001b[0m eta \u001b[36m0:00:00\u001b[0mm eta \u001b[36m0:00:01\u001b[0m0:01\u001b[0m:01\u001b[0m\n",
      "\u001b[?25hDownloading catalogue-2.0.10-py3-none-any.whl (17 kB)\n",
      "Downloading cymem-2.0.8-cp312-cp312-manylinux_2_17_x86_64.manylinux2014_x86_64.whl (46 kB)\n",
      "Downloading langcodes-3.4.1-py3-none-any.whl (182 kB)\n",
      "Downloading murmurhash-1.0.10-cp312-cp312-manylinux_2_5_x86_64.manylinux1_x86_64.manylinux_2_17_x86_64.manylinux2014_x86_64.whl (29 kB)\n",
      "Downloading preshed-3.0.9-cp312-cp312-manylinux_2_5_x86_64.manylinux1_x86_64.manylinux_2_17_x86_64.manylinux2014_x86_64.whl (156 kB)\n",
      "Downloading pydantic-2.9.2-py3-none-any.whl (434 kB)\n",
      "Downloading pydantic_core-2.23.4-cp312-cp312-manylinux_2_17_x86_64.manylinux2014_x86_64.whl (2.1 MB)\n",
      "\u001b[2K   \u001b[38;2;114;156;31m━━━━━━━━━━━━━━━━━━━━━━━━━━━━━━━━━━━━━━━━\u001b[0m \u001b[32m2.1/2.1 MB\u001b[0m \u001b[31m8.9 MB/s\u001b[0m eta \u001b[36m0:00:00\u001b[0m2 MB/s\u001b[0m eta \u001b[36m0:00:01\u001b[0m\n",
      "\u001b[?25hDownloading spacy_legacy-3.0.12-py2.py3-none-any.whl (29 kB)\n",
      "Downloading spacy_loggers-1.0.5-py3-none-any.whl (22 kB)\n",
      "Downloading srsly-2.4.8-cp312-cp312-manylinux_2_17_x86_64.manylinux2014_x86_64.whl (491 kB)\n",
      "Downloading thinc-8.3.2-cp312-cp312-manylinux_2_17_x86_64.manylinux2014_x86_64.whl (3.7 MB)\n",
      "\u001b[2K   \u001b[38;2;114;156;31m━━━━━━━━━━━━━━━━━━━━━━━━━━━━━━━━━━━━━━━━\u001b[0m \u001b[32m3.7/3.7 MB\u001b[0m \u001b[31m9.9 MB/s\u001b[0m eta \u001b[36m0:00:00\u001b[0m[31m11.4 MB/s\u001b[0m eta \u001b[36m0:00:01\u001b[0m\n",
      "\u001b[?25hDownloading numpy-2.0.2-cp312-cp312-manylinux_2_17_x86_64.manylinux2014_x86_64.whl (19.2 MB)\n",
      "\u001b[2K   \u001b[38;2;114;156;31m━━━━━━━━━━━━━━━━━━━━━━━━━━━━━━━━━━━━━━━━\u001b[0m \u001b[32m19.2/19.2 MB\u001b[0m \u001b[31m10.3 MB/s\u001b[0m eta \u001b[36m0:00:00\u001b[0mm eta \u001b[36m0:00:01\u001b[0m0:01\u001b[0m:01\u001b[0m\n",
      "\u001b[?25hDownloading typer-0.12.5-py3-none-any.whl (47 kB)\n",
      "Downloading wasabi-1.1.3-py3-none-any.whl (27 kB)\n",
      "Downloading weasel-0.4.1-py3-none-any.whl (50 kB)\n",
      "Downloading annotated_types-0.7.0-py3-none-any.whl (13 kB)\n",
      "Downloading blis-1.0.1-cp312-cp312-manylinux_2_17_x86_64.manylinux2014_x86_64.whl (9.3 MB)\n",
      "\u001b[2K   \u001b[38;2;114;156;31m━━━━━━━━━━━━━━━━━━━━━━━━━━━━━━━━━━━━━━━━\u001b[0m \u001b[32m9.3/9.3 MB\u001b[0m \u001b[31m10.2 MB/s\u001b[0m eta \u001b[36m0:00:00\u001b[0m MB/s\u001b[0m eta \u001b[36m0:00:01\u001b[0m:01\u001b[0m\n",
      "\u001b[?25hDownloading click-8.1.7-py3-none-any.whl (97 kB)\n",
      "Downloading cloudpathlib-0.20.0-py3-none-any.whl (52 kB)\n",
      "Downloading confection-0.1.5-py3-none-any.whl (35 kB)\n",
      "Downloading language_data-1.2.0-py3-none-any.whl (5.4 MB)\n",
      "\u001b[2K   \u001b[38;2;114;156;31m━━━━━━━━━━━━━━━━━━━━━━━━━━━━━━━━━━━━━━━━\u001b[0m \u001b[32m5.4/5.4 MB\u001b[0m \u001b[31m9.9 MB/s\u001b[0m eta \u001b[36m0:00:00\u001b[0m8 MB/s\u001b[0m eta \u001b[36m0:00:01\u001b[0m:01\u001b[0m\n",
      "\u001b[?25hDownloading rich-13.9.3-py3-none-any.whl (242 kB)\n",
      "Downloading shellingham-1.5.4-py2.py3-none-any.whl (9.8 kB)\n",
      "Downloading smart_open-7.0.5-py3-none-any.whl (61 kB)\n",
      "Downloading marisa_trie-1.2.1-cp312-cp312-manylinux_2_17_x86_64.manylinux2014_x86_64.whl (1.4 MB)\n",
      "\u001b[2K   \u001b[38;2;114;156;31m━━━━━━━━━━━━━━━━━━━━━━━━━━━━━━━━━━━━━━━━\u001b[0m \u001b[32m1.4/1.4 MB\u001b[0m \u001b[31m8.3 MB/s\u001b[0m eta \u001b[36m0:00:00\u001b[0m\n",
      "\u001b[?25hDownloading markdown_it_py-3.0.0-py3-none-any.whl (87 kB)\n",
      "Downloading wrapt-1.16.0-cp312-cp312-manylinux_2_5_x86_64.manylinux1_x86_64.manylinux_2_17_x86_64.manylinux2014_x86_64.whl (87 kB)\n",
      "Downloading mdurl-0.1.2-py3-none-any.whl (10.0 kB)\n",
      "Installing collected packages: cymem, wrapt, wasabi, spacy-loggers, spacy-legacy, shellingham, pydantic-core, numpy, murmurhash, mdurl, marisa-trie, cloudpathlib, click, catalogue, annotated-types, srsly, smart-open, pydantic, preshed, markdown-it-py, language-data, blis, rich, langcodes, confection, typer, thinc, weasel, spacy\n",
      "  Attempting uninstall: numpy\n",
      "    Found existing installation: numpy 2.1.2\n",
      "    Uninstalling numpy-2.1.2:\n",
      "      Successfully uninstalled numpy-2.1.2\n",
      "Successfully installed annotated-types-0.7.0 blis-1.0.1 catalogue-2.0.10 click-8.1.7 cloudpathlib-0.20.0 confection-0.1.5 cymem-2.0.8 langcodes-3.4.1 language-data-1.2.0 marisa-trie-1.2.1 markdown-it-py-3.0.0 mdurl-0.1.2 murmurhash-1.0.10 numpy-2.0.2 preshed-3.0.9 pydantic-2.9.2 pydantic-core-2.23.4 rich-13.9.3 shellingham-1.5.4 smart-open-7.0.5 spacy-3.8.2 spacy-legacy-3.0.12 spacy-loggers-1.0.5 srsly-2.4.8 thinc-8.3.2 typer-0.12.5 wasabi-1.1.3 weasel-0.4.1 wrapt-1.16.0\n",
      "Note: you may need to restart the kernel to use updated packages.\n"
     ]
    }
   ],
   "source": [
    "pip install spacy\n"
   ]
  },
  {
   "cell_type": "code",
   "execution_count": 91,
   "id": "cc033065-5ea4-43a3-bf89-f67ad01f93b0",
   "metadata": {},
   "outputs": [
    {
     "name": "stdout",
     "output_type": "stream",
     "text": [
      "Collecting wordcloud\n",
      "  Downloading wordcloud-1.9.3-cp312-cp312-manylinux_2_17_x86_64.manylinux2014_x86_64.whl.metadata (3.4 kB)\n",
      "Requirement already satisfied: numpy>=1.6.1 in /home/kimani/miniconda3/lib/python3.12/site-packages (from wordcloud) (2.1.2)\n",
      "Requirement already satisfied: pillow in /home/kimani/miniconda3/lib/python3.12/site-packages (from wordcloud) (11.0.0)\n",
      "Requirement already satisfied: matplotlib in /home/kimani/miniconda3/lib/python3.12/site-packages (from wordcloud) (3.9.2)\n",
      "Requirement already satisfied: contourpy>=1.0.1 in /home/kimani/miniconda3/lib/python3.12/site-packages (from matplotlib->wordcloud) (1.3.0)\n",
      "Requirement already satisfied: cycler>=0.10 in /home/kimani/miniconda3/lib/python3.12/site-packages (from matplotlib->wordcloud) (0.12.1)\n",
      "Requirement already satisfied: fonttools>=4.22.0 in /home/kimani/miniconda3/lib/python3.12/site-packages (from matplotlib->wordcloud) (4.54.1)\n",
      "Requirement already satisfied: kiwisolver>=1.3.1 in /home/kimani/miniconda3/lib/python3.12/site-packages (from matplotlib->wordcloud) (1.4.7)\n",
      "Requirement already satisfied: packaging>=20.0 in /home/kimani/miniconda3/lib/python3.12/site-packages (from matplotlib->wordcloud) (24.1)\n",
      "Requirement already satisfied: pyparsing>=2.3.1 in /home/kimani/miniconda3/lib/python3.12/site-packages (from matplotlib->wordcloud) (3.2.0)\n",
      "Requirement already satisfied: python-dateutil>=2.7 in /home/kimani/miniconda3/lib/python3.12/site-packages (from matplotlib->wordcloud) (2.9.0.post0)\n",
      "Requirement already satisfied: six>=1.5 in /home/kimani/miniconda3/lib/python3.12/site-packages (from python-dateutil>=2.7->matplotlib->wordcloud) (1.16.0)\n",
      "Downloading wordcloud-1.9.3-cp312-cp312-manylinux_2_17_x86_64.manylinux2014_x86_64.whl (541 kB)\n",
      "\u001b[2K   \u001b[38;2;114;156;31m━━━━━━━━━━━━━━━━━━━━━━━━━━━━━━━━━━━━━━━━\u001b[0m \u001b[32m541.6/541.6 kB\u001b[0m \u001b[31m3.6 MB/s\u001b[0m eta \u001b[36m0:00:00\u001b[0m0m eta \u001b[36m-:--:--\u001b[0m\n",
      "\u001b[?25hInstalling collected packages: wordcloud\n",
      "Successfully installed wordcloud-1.9.3\n",
      "Note: you may need to restart the kernel to use updated packages.\n"
     ]
    }
   ],
   "source": [
    "pip install wordcloud\n"
   ]
  },
  {
   "cell_type": "code",
   "execution_count": 9,
   "id": "3c436c22-c5bc-4926-a2fc-f586e709c36a",
   "metadata": {},
   "outputs": [
    {
     "name": "stdout",
     "output_type": "stream",
     "text": [
      "Collecting matplotlib\n",
      "  Downloading matplotlib-3.9.2-cp312-cp312-manylinux_2_17_x86_64.manylinux2014_x86_64.whl.metadata (11 kB)\n",
      "Collecting contourpy>=1.0.1 (from matplotlib)\n",
      "  Downloading contourpy-1.3.0-cp312-cp312-manylinux_2_17_x86_64.manylinux2014_x86_64.whl.metadata (5.4 kB)\n",
      "Collecting cycler>=0.10 (from matplotlib)\n",
      "  Downloading cycler-0.12.1-py3-none-any.whl.metadata (3.8 kB)\n",
      "Collecting fonttools>=4.22.0 (from matplotlib)\n",
      "  Downloading fonttools-4.54.1-cp312-cp312-manylinux_2_5_x86_64.manylinux1_x86_64.manylinux_2_17_x86_64.manylinux2014_x86_64.whl.metadata (163 kB)\n",
      "Collecting kiwisolver>=1.3.1 (from matplotlib)\n",
      "  Downloading kiwisolver-1.4.7-cp312-cp312-manylinux_2_17_x86_64.manylinux2014_x86_64.whl.metadata (6.3 kB)\n",
      "Requirement already satisfied: numpy>=1.23 in /home/kimani/miniconda3/lib/python3.12/site-packages (from matplotlib) (2.1.2)\n",
      "Requirement already satisfied: packaging>=20.0 in /home/kimani/miniconda3/lib/python3.12/site-packages (from matplotlib) (24.1)\n",
      "Collecting pillow>=8 (from matplotlib)\n",
      "  Downloading pillow-11.0.0-cp312-cp312-manylinux_2_28_x86_64.whl.metadata (9.1 kB)\n",
      "Collecting pyparsing>=2.3.1 (from matplotlib)\n",
      "  Downloading pyparsing-3.2.0-py3-none-any.whl.metadata (5.0 kB)\n",
      "Requirement already satisfied: python-dateutil>=2.7 in /home/kimani/miniconda3/lib/python3.12/site-packages (from matplotlib) (2.9.0.post0)\n",
      "Requirement already satisfied: six>=1.5 in /home/kimani/miniconda3/lib/python3.12/site-packages (from python-dateutil>=2.7->matplotlib) (1.16.0)\n",
      "Downloading matplotlib-3.9.2-cp312-cp312-manylinux_2_17_x86_64.manylinux2014_x86_64.whl (8.3 MB)\n",
      "\u001b[2K   \u001b[38;2;114;156;31m━━━━━━━━━━━━━━━━━━━━━━━━━━━━━━━━━━━━━━━━\u001b[0m \u001b[32m8.3/8.3 MB\u001b[0m \u001b[31m8.8 MB/s\u001b[0m eta \u001b[36m0:00:00\u001b[0m MB/s\u001b[0m eta \u001b[36m0:00:01\u001b[0m:01\u001b[0m\n",
      "\u001b[?25hDownloading contourpy-1.3.0-cp312-cp312-manylinux_2_17_x86_64.manylinux2014_x86_64.whl (320 kB)\n",
      "Downloading cycler-0.12.1-py3-none-any.whl (8.3 kB)\n",
      "Downloading fonttools-4.54.1-cp312-cp312-manylinux_2_5_x86_64.manylinux1_x86_64.manylinux_2_17_x86_64.manylinux2014_x86_64.whl (4.9 MB)\n",
      "\u001b[2K   \u001b[38;2;114;156;31m━━━━━━━━━━━━━━━━━━━━━━━━━━━━━━━━━━━━━━━━\u001b[0m \u001b[32m4.9/4.9 MB\u001b[0m \u001b[31m9.6 MB/s\u001b[0m eta \u001b[36m0:00:00\u001b[0m5 MB/s\u001b[0m eta \u001b[36m0:00:01\u001b[0m\n",
      "\u001b[?25hDownloading kiwisolver-1.4.7-cp312-cp312-manylinux_2_17_x86_64.manylinux2014_x86_64.whl (1.5 MB)\n",
      "\u001b[2K   \u001b[38;2;114;156;31m━━━━━━━━━━━━━━━━━━━━━━━━━━━━━━━━━━━━━━━━\u001b[0m \u001b[32m1.5/1.5 MB\u001b[0m \u001b[31m9.4 MB/s\u001b[0m eta \u001b[36m0:00:00\u001b[0m\n",
      "\u001b[?25hDownloading pillow-11.0.0-cp312-cp312-manylinux_2_28_x86_64.whl (4.4 MB)\n",
      "\u001b[2K   \u001b[38;2;114;156;31m━━━━━━━━━━━━━━━━━━━━━━━━━━━━━━━━━━━━━━━━\u001b[0m \u001b[32m4.4/4.4 MB\u001b[0m \u001b[31m9.8 MB/s\u001b[0m eta \u001b[36m0:00:00\u001b[0m1 MB/s\u001b[0m eta \u001b[36m0:00:01\u001b[0m\n",
      "\u001b[?25hDownloading pyparsing-3.2.0-py3-none-any.whl (106 kB)\n",
      "Installing collected packages: pyparsing, pillow, kiwisolver, fonttools, cycler, contourpy, matplotlib\n",
      "Successfully installed contourpy-1.3.0 cycler-0.12.1 fonttools-4.54.1 kiwisolver-1.4.7 matplotlib-3.9.2 pillow-11.0.0 pyparsing-3.2.0\n",
      "Note: you may need to restart the kernel to use updated packages.\n"
     ]
    }
   ],
   "source": [
    "pip install matplotlib"
   ]
  },
  {
   "cell_type": "code",
   "execution_count": 2,
   "id": "b8d8d24a-3d82-4af8-8f93-4e1b90074102",
   "metadata": {},
   "outputs": [
    {
     "name": "stdout",
     "output_type": "stream",
     "text": [
      "Collecting pandas\n",
      "  Downloading pandas-2.2.3-cp312-cp312-manylinux_2_17_x86_64.manylinux2014_x86_64.whl.metadata (89 kB)\n",
      "Collecting numpy>=1.26.0 (from pandas)\n",
      "  Downloading numpy-2.1.2-cp312-cp312-manylinux_2_17_x86_64.manylinux2014_x86_64.whl.metadata (60 kB)\n",
      "Requirement already satisfied: python-dateutil>=2.8.2 in /home/kimani/miniconda3/lib/python3.12/site-packages (from pandas) (2.9.0.post0)\n",
      "Requirement already satisfied: pytz>=2020.1 in /home/kimani/miniconda3/lib/python3.12/site-packages (from pandas) (2024.1)\n",
      "Collecting tzdata>=2022.7 (from pandas)\n",
      "  Downloading tzdata-2024.2-py2.py3-none-any.whl.metadata (1.4 kB)\n",
      "Requirement already satisfied: six>=1.5 in /home/kimani/miniconda3/lib/python3.12/site-packages (from python-dateutil>=2.8.2->pandas) (1.16.0)\n",
      "Downloading pandas-2.2.3-cp312-cp312-manylinux_2_17_x86_64.manylinux2014_x86_64.whl (12.7 MB)\n",
      "\u001b[2K   \u001b[38;2;114;156;31m━━━━━━━━━━━━━━━━━━━━━━━━━━━━━━━━━━━━━━━━\u001b[0m \u001b[32m12.7/12.7 MB\u001b[0m \u001b[31m9.0 MB/s\u001b[0m eta \u001b[36m0:00:00\u001b[0mm eta \u001b[36m0:00:01\u001b[0m[36m0:00:01\u001b[0m\n",
      "\u001b[?25hDownloading numpy-2.1.2-cp312-cp312-manylinux_2_17_x86_64.manylinux2014_x86_64.whl (16.0 MB)\n",
      "\u001b[2K   \u001b[38;2;114;156;31m━━━━━━━━━━━━━━━━━━━━━━━━━━━━━━━━━━━━━━━━\u001b[0m \u001b[32m16.0/16.0 MB\u001b[0m \u001b[31m10.2 MB/s\u001b[0m eta \u001b[36m0:00:00\u001b[0m31m10.9 MB/s\u001b[0m eta \u001b[36m0:00:01\u001b[0m\n",
      "\u001b[?25hDownloading tzdata-2024.2-py2.py3-none-any.whl (346 kB)\n",
      "Installing collected packages: tzdata, numpy, pandas\n",
      "Successfully installed numpy-2.1.2 pandas-2.2.3 tzdata-2024.2\n",
      "Note: you may need to restart the kernel to use updated packages.\n"
     ]
    }
   ],
   "source": [
    "pip install pandas"
   ]
  },
  {
   "cell_type": "code",
   "execution_count": 10,
   "id": "ae694dc1-dfa9-458e-b1e2-f971f92a385c",
   "metadata": {},
   "outputs": [],
   "source": [
    "import matplotlib.pyplot as plt"
   ]
  },
  {
   "cell_type": "code",
   "execution_count": 4,
   "id": "93b662f7-3b29-4260-b708-a93fa6a1bac3",
   "metadata": {},
   "outputs": [],
   "source": [
    "import pandas as pd"
   ]
  },
  {
   "cell_type": "code",
   "execution_count": 3,
   "id": "e7159362-889f-41d1-b8bd-01aa6d2acddd",
   "metadata": {},
   "outputs": [],
   "source": [
    "import ast"
   ]
  },
  {
   "cell_type": "code",
   "execution_count": 77,
   "id": "8c125533-d041-437e-b51f-944d7156f665",
   "metadata": {},
   "outputs": [],
   "source": [
    "import numpy as np"
   ]
  },
  {
   "cell_type": "markdown",
   "id": "bff50836-dc1c-4b25-bdb9-86b75459ce2d",
   "metadata": {},
   "source": [
    "### Reading the File"
   ]
  },
  {
   "cell_type": "code",
   "execution_count": 3,
   "id": "cbf9d3cc-5885-4e70-8627-aeb02623fdb1",
   "metadata": {},
   "outputs": [
    {
     "data": {
      "text/html": [
       "<div>\n",
       "<style scoped>\n",
       "    .dataframe tbody tr th:only-of-type {\n",
       "        vertical-align: middle;\n",
       "    }\n",
       "\n",
       "    .dataframe tbody tr th {\n",
       "        vertical-align: top;\n",
       "    }\n",
       "\n",
       "    .dataframe thead th {\n",
       "        text-align: right;\n",
       "    }\n",
       "</style>\n",
       "<table border=\"1\" class=\"dataframe\">\n",
       "  <thead>\n",
       "    <tr style=\"text-align: right;\">\n",
       "      <th></th>\n",
       "      <th>container_type</th>\n",
       "      <th>source</th>\n",
       "      <th>bib</th>\n",
       "      <th>filled</th>\n",
       "      <th>gsrank</th>\n",
       "      <th>pub_url</th>\n",
       "      <th>author_id</th>\n",
       "      <th>url_scholarbib</th>\n",
       "      <th>url_add_sclib</th>\n",
       "      <th>num_citations</th>\n",
       "      <th>citedby_url</th>\n",
       "      <th>url_related_articles</th>\n",
       "      <th>eprint_url</th>\n",
       "    </tr>\n",
       "  </thead>\n",
       "  <tbody>\n",
       "    <tr>\n",
       "      <th>0</th>\n",
       "      <td>Publication</td>\n",
       "      <td>PUBLICATION_SEARCH_SNIPPET</td>\n",
       "      <td>{'title': 'A unique Plasmodium falciparum Kelc...</td>\n",
       "      <td>False</td>\n",
       "      <td>1</td>\n",
       "      <td>https://www.ncbi.nlm.nih.gov/pmc/articles/PMC4...</td>\n",
       "      <td>['', '', '', '']</td>\n",
       "      <td>/scholar?hl=en&amp;q=info:MjZKRiuyQt0J:scholar.goo...</td>\n",
       "      <td>/citations?hl=en&amp;xsrf=&amp;continue=/scholar%3Fq%3...</td>\n",
       "      <td>73</td>\n",
       "      <td>/scholar?cites=15943501529777583666&amp;as_sdt=5,3...</td>\n",
       "      <td>/scholar?q=related:MjZKRiuyQt0J:scholar.google...</td>\n",
       "      <td>https://www.ncbi.nlm.nih.gov/pmc/articles/PMC4...</td>\n",
       "    </tr>\n",
       "    <tr>\n",
       "      <th>1</th>\n",
       "      <td>Publication</td>\n",
       "      <td>PUBLICATION_SEARCH_SNIPPET</td>\n",
       "      <td>{'title': 'Plasmodium falciparum kelch 13 muta...</td>\n",
       "      <td>False</td>\n",
       "      <td>2</td>\n",
       "      <td>https://www.ncbi.nlm.nih.gov/pmc/articles/PMC8...</td>\n",
       "      <td>['', '', '', '']</td>\n",
       "      <td>/scholar?hl=en&amp;q=info:S2NwsO75kasJ:scholar.goo...</td>\n",
       "      <td>/citations?hl=en&amp;xsrf=&amp;continue=/scholar%3Fq%3...</td>\n",
       "      <td>15</td>\n",
       "      <td>/scholar?cites=12362937255666410315&amp;as_sdt=5,3...</td>\n",
       "      <td>/scholar?q=related:S2NwsO75kasJ:scholar.google...</td>\n",
       "      <td>https://www.ncbi.nlm.nih.gov/pmc/articles/PMC8...</td>\n",
       "    </tr>\n",
       "    <tr>\n",
       "      <th>2</th>\n",
       "      <td>Publication</td>\n",
       "      <td>PUBLICATION_SEARCH_SNIPPET</td>\n",
       "      <td>{'title': 'Anti-malarial resistance in Mozambi...</td>\n",
       "      <td>False</td>\n",
       "      <td>3</td>\n",
       "      <td>https://link.springer.com/article/10.1186/s129...</td>\n",
       "      <td>['', '', '', '', '']</td>\n",
       "      <td>/scholar?hl=en&amp;q=info:h4maJ3zeUdoJ:scholar.goo...</td>\n",
       "      <td>/citations?hl=en&amp;xsrf=&amp;continue=/scholar%3Fq%3...</td>\n",
       "      <td>2</td>\n",
       "      <td>/scholar?cites=15731599598203603335&amp;as_sdt=5,3...</td>\n",
       "      <td>/scholar?q=related:h4maJ3zeUdoJ:scholar.google...</td>\n",
       "      <td>https://link.springer.com/content/pdf/10.1186/...</td>\n",
       "    </tr>\n",
       "  </tbody>\n",
       "</table>\n",
       "</div>"
      ],
      "text/plain": [
       "  container_type                      source  \\\n",
       "0    Publication  PUBLICATION_SEARCH_SNIPPET   \n",
       "1    Publication  PUBLICATION_SEARCH_SNIPPET   \n",
       "2    Publication  PUBLICATION_SEARCH_SNIPPET   \n",
       "\n",
       "                                                 bib  filled  gsrank  \\\n",
       "0  {'title': 'A unique Plasmodium falciparum Kelc...   False       1   \n",
       "1  {'title': 'Plasmodium falciparum kelch 13 muta...   False       2   \n",
       "2  {'title': 'Anti-malarial resistance in Mozambi...   False       3   \n",
       "\n",
       "                                             pub_url             author_id  \\\n",
       "0  https://www.ncbi.nlm.nih.gov/pmc/articles/PMC4...      ['', '', '', '']   \n",
       "1  https://www.ncbi.nlm.nih.gov/pmc/articles/PMC8...      ['', '', '', '']   \n",
       "2  https://link.springer.com/article/10.1186/s129...  ['', '', '', '', '']   \n",
       "\n",
       "                                      url_scholarbib  \\\n",
       "0  /scholar?hl=en&q=info:MjZKRiuyQt0J:scholar.goo...   \n",
       "1  /scholar?hl=en&q=info:S2NwsO75kasJ:scholar.goo...   \n",
       "2  /scholar?hl=en&q=info:h4maJ3zeUdoJ:scholar.goo...   \n",
       "\n",
       "                                       url_add_sclib  num_citations  \\\n",
       "0  /citations?hl=en&xsrf=&continue=/scholar%3Fq%3...             73   \n",
       "1  /citations?hl=en&xsrf=&continue=/scholar%3Fq%3...             15   \n",
       "2  /citations?hl=en&xsrf=&continue=/scholar%3Fq%3...              2   \n",
       "\n",
       "                                         citedby_url  \\\n",
       "0  /scholar?cites=15943501529777583666&as_sdt=5,3...   \n",
       "1  /scholar?cites=12362937255666410315&as_sdt=5,3...   \n",
       "2  /scholar?cites=15731599598203603335&as_sdt=5,3...   \n",
       "\n",
       "                                url_related_articles  \\\n",
       "0  /scholar?q=related:MjZKRiuyQt0J:scholar.google...   \n",
       "1  /scholar?q=related:S2NwsO75kasJ:scholar.google...   \n",
       "2  /scholar?q=related:h4maJ3zeUdoJ:scholar.google...   \n",
       "\n",
       "                                          eprint_url  \n",
       "0  https://www.ncbi.nlm.nih.gov/pmc/articles/PMC4...  \n",
       "1  https://www.ncbi.nlm.nih.gov/pmc/articles/PMC8...  \n",
       "2  https://link.springer.com/content/pdf/10.1186/...  "
      ]
     },
     "execution_count": 3,
     "metadata": {},
     "output_type": "execute_result"
    }
   ],
   "source": [
    "df= pd.read_csv(\"./K13_review_google_scholar3.csv\")\n",
    "df.head(3)"
   ]
  },
  {
   "cell_type": "code",
   "execution_count": 12,
   "id": "afd8b1f6-4318-4232-8200-cffc726ba4ee",
   "metadata": {},
   "outputs": [
    {
     "name": "stdout",
     "output_type": "stream",
     "text": [
      "0      <class 'dict'>\n",
      "1      <class 'dict'>\n",
      "2      <class 'dict'>\n",
      "3      <class 'dict'>\n",
      "4      <class 'dict'>\n",
      "            ...      \n",
      "995    <class 'dict'>\n",
      "996    <class 'dict'>\n",
      "997    <class 'dict'>\n",
      "998    <class 'dict'>\n",
      "999    <class 'dict'>\n",
      "Name: bib, Length: 1000, dtype: object\n"
     ]
    }
   ],
   "source": [
    "#checking the class type of the data in bib column\n",
    "print(df['bib'].apply(type))"
   ]
  },
  {
   "cell_type": "code",
   "execution_count": 13,
   "id": "14189450-b49f-4ca9-ac3d-af1f950be729",
   "metadata": {},
   "outputs": [],
   "source": [
    "#dt=df['bib']\n",
    "#dt.head(5)"
   ]
  },
  {
   "cell_type": "markdown",
   "id": "c17996a9-9fe9-4601-8e09-7778fe967211",
   "metadata": {},
   "source": [
    "##### expanding the Bib column to have sub columns"
   ]
  },
  {
   "cell_type": "code",
   "execution_count": null,
   "id": "81108640-a20e-4913-a609-e3bf219a4b2d",
   "metadata": {},
   "outputs": [],
   "source": [
    "# Check if the data in 'Article_Details' is a string and convert it to a dictionary\n",
    "df['bib']=df['bib'].apply(lambda x: ast.literal_eval(x) if isinstance(x, str) else x)\n",
    "\n",
    "# Now, 'Article_Details' is a column of dictionaries, and we can expand it\n",
    "expanded_df = df['bib'].apply(pd.Series)\n",
    "\n",
    "# Display the expanded DataFrame\n",
    "print(\"\\nExpanded Dictionary DataFrame:\")\n",
    "print(expanded_df)"
   ]
  },
  {
   "cell_type": "markdown",
   "id": "64cf0f93-c708-4288-b726-870b8736c438",
   "metadata": {},
   "source": [
    "#### Saving the new df to a csv"
   ]
  },
  {
   "cell_type": "code",
   "execution_count": 11,
   "id": "fa06217c-8e9d-4337-8507-0c988920de69",
   "metadata": {},
   "outputs": [],
   "source": [
    "expanded_df.to_csv(\"./expanded1.csv\")"
   ]
  },
  {
   "cell_type": "code",
   "execution_count": 51,
   "id": "b673d09c-7894-40df-8383-897bebf7082e",
   "metadata": {},
   "outputs": [],
   "source": [
    "df=pd.read_csv(\"./expanded1.csv\")"
   ]
  },
  {
   "cell_type": "markdown",
   "id": "9c4376e6-cbca-4e0b-b78b-382bf36a102b",
   "metadata": {},
   "source": [
    "#### Summary Statistics"
   ]
  },
  {
   "cell_type": "code",
   "execution_count": 52,
   "id": "0f2961e9-3028-4625-add4-e8be6916c307",
   "metadata": {},
   "outputs": [
    {
     "data": {
      "text/html": [
       "<div>\n",
       "<style scoped>\n",
       "    .dataframe tbody tr th:only-of-type {\n",
       "        vertical-align: middle;\n",
       "    }\n",
       "\n",
       "    .dataframe tbody tr th {\n",
       "        vertical-align: top;\n",
       "    }\n",
       "\n",
       "    .dataframe thead th {\n",
       "        text-align: right;\n",
       "    }\n",
       "</style>\n",
       "<table border=\"1\" class=\"dataframe\">\n",
       "  <thead>\n",
       "    <tr style=\"text-align: right;\">\n",
       "      <th></th>\n",
       "      <th>Unnamed: 0</th>\n",
       "      <th>title</th>\n",
       "      <th>author</th>\n",
       "      <th>pub_year</th>\n",
       "      <th>venue</th>\n",
       "      <th>abstract</th>\n",
       "    </tr>\n",
       "  </thead>\n",
       "  <tbody>\n",
       "    <tr>\n",
       "      <th>0</th>\n",
       "      <td>0</td>\n",
       "      <td>A unique Plasmodium falciparum Kelch 13 gene m...</td>\n",
       "      <td>['AG Bayih', 'G Getnet', 'A Alemu', 'S Getie']</td>\n",
       "      <td>2016.0</td>\n",
       "      <td>The American journal …</td>\n",
       "      <td>uncomplicated falciparum malaria in 2004. In t...</td>\n",
       "    </tr>\n",
       "    <tr>\n",
       "      <th>1</th>\n",
       "      <td>1</td>\n",
       "      <td>Plasmodium falciparum kelch 13 mutations, 9 co...</td>\n",
       "      <td>['SE Schmedes', 'D Patel', 'S Dhal', 'J Kelley']</td>\n",
       "      <td>2021.0</td>\n",
       "      <td>Emerging Infectious …</td>\n",
       "      <td>We report the prevalence of mutations in the P...</td>\n",
       "    </tr>\n",
       "    <tr>\n",
       "      <th>2</th>\n",
       "      <td>2</td>\n",
       "      <td>Anti-malarial resistance in Mozambique: Absenc...</td>\n",
       "      <td>['C da Silva', 'D Matias', 'B Dias', 'B Cancio...</td>\n",
       "      <td>2023.0</td>\n",
       "      <td>Malaria Journal</td>\n",
       "      <td>, Rwanda [24,25,26,27]. In Mozambique, availab...</td>\n",
       "    </tr>\n",
       "    <tr>\n",
       "      <th>3</th>\n",
       "      <td>3</td>\n",
       "      <td>Molecular surveillance of Kelch 13 polymorphis...</td>\n",
       "      <td>['B Jeang', 'D Zhong', 'MC Lee', 'H Atieli', '...</td>\n",
       "      <td>2024.0</td>\n",
       "      <td>Malaria Journal</td>\n",
       "      <td>of Plasmodium falciparum kelch 13 (k13) gene  ...</td>\n",
       "    </tr>\n",
       "    <tr>\n",
       "      <th>4</th>\n",
       "      <td>4</td>\n",
       "      <td>Spatial and molecular mapping of Pfkelch13 gen...</td>\n",
       "      <td>['NK Kayiba', 'DM Yobi']</td>\n",
       "      <td>2021.0</td>\n",
       "      <td>The Lancet Infectious …</td>\n",
       "      <td>The spread of Plasmodium falciparum isolates c...</td>\n",
       "    </tr>\n",
       "  </tbody>\n",
       "</table>\n",
       "</div>"
      ],
      "text/plain": [
       "   Unnamed: 0                                              title  \\\n",
       "0           0  A unique Plasmodium falciparum Kelch 13 gene m...   \n",
       "1           1  Plasmodium falciparum kelch 13 mutations, 9 co...   \n",
       "2           2  Anti-malarial resistance in Mozambique: Absenc...   \n",
       "3           3  Molecular surveillance of Kelch 13 polymorphis...   \n",
       "4           4  Spatial and molecular mapping of Pfkelch13 gen...   \n",
       "\n",
       "                                              author  pub_year  \\\n",
       "0     ['AG Bayih', 'G Getnet', 'A Alemu', 'S Getie']    2016.0   \n",
       "1   ['SE Schmedes', 'D Patel', 'S Dhal', 'J Kelley']    2021.0   \n",
       "2  ['C da Silva', 'D Matias', 'B Dias', 'B Cancio...    2023.0   \n",
       "3  ['B Jeang', 'D Zhong', 'MC Lee', 'H Atieli', '...    2024.0   \n",
       "4                           ['NK Kayiba', 'DM Yobi']    2021.0   \n",
       "\n",
       "                     venue                                           abstract  \n",
       "0   The American journal …  uncomplicated falciparum malaria in 2004. In t...  \n",
       "1    Emerging Infectious …  We report the prevalence of mutations in the P...  \n",
       "2          Malaria Journal  , Rwanda [24,25,26,27]. In Mozambique, availab...  \n",
       "3          Malaria Journal  of Plasmodium falciparum kelch 13 (k13) gene  ...  \n",
       "4  The Lancet Infectious …  The spread of Plasmodium falciparum isolates c...  "
      ]
     },
     "execution_count": 52,
     "metadata": {},
     "output_type": "execute_result"
    }
   ],
   "source": [
    "df.head()"
   ]
  },
  {
   "cell_type": "code",
   "execution_count": 53,
   "id": "fd0a3f29-d024-4192-a144-0390776579dd",
   "metadata": {},
   "outputs": [
    {
     "data": {
      "text/plain": [
       "1000"
      ]
     },
     "execution_count": 53,
     "metadata": {},
     "output_type": "execute_result"
    }
   ],
   "source": [
    " df.shape[0]"
   ]
  },
  {
   "cell_type": "code",
   "execution_count": 54,
   "id": "6dbd04c6-7f11-474d-b4ef-9bf22d66050b",
   "metadata": {},
   "outputs": [],
   "source": [
    "years_stats= df['pub_year'].describe()"
   ]
  },
  {
   "cell_type": "code",
   "execution_count": 55,
   "id": "3599bde6-7e20-49ab-bc89-93e1b2a9e821",
   "metadata": {},
   "outputs": [
    {
     "name": "stdout",
     "output_type": "stream",
     "text": [
      "count     959.000000\n",
      "mean     2020.116788\n",
      "std         2.887038\n",
      "min      2005.000000\n",
      "25%      2018.000000\n",
      "50%      2021.000000\n",
      "75%      2023.000000\n",
      "max      2024.000000\n",
      "Name: pub_year, dtype: float64\n"
     ]
    }
   ],
   "source": [
    "print(years_stats)"
   ]
  },
  {
   "cell_type": "code",
   "execution_count": 56,
   "id": "32e63e70-e43e-4d32-a878-1e63903ea52a",
   "metadata": {},
   "outputs": [
    {
     "data": {
      "image/png": "[encoded data removed]",
      "text/plain": [
       "<Figure size 1000x600 with 1 Axes>"
      ]
     },
     "metadata": {},
     "output_type": "display_data"
    }
   ],
   "source": [
    "# Count the occurrences of each year\n",
    "year_counts = df['pub_year'].value_counts().sort_index()\n",
    "\n",
    "# Plotting\n",
    "plt.figure(figsize=(10, 6))\n",
    "bars = plt.bar(year_counts.index, year_counts.values)\n",
    "\n",
    "# Adding count numbers on top of the bars\n",
    "for bar in bars:\n",
    "    yval = bar.get_height()\n",
    "    plt.text(bar.get_x() + bar.get_width() / 2, yval, int(yval), \n",
    "             ha='center', va='bottom')\n",
    "\n",
    "plt.title('Count of Each Year')\n",
    "plt.xlabel('Year')\n",
    "plt.ylabel('Count')\n",
    "plt.xticks(rotation=45)\n",
    "plt.grid(axis='y')\n",
    "plt.show()\n",
    "\n"
   ]
  },
  {
   "cell_type": "code",
   "execution_count": 57,
   "id": "53e280c9-331f-4efe-8969-73c0d3c5eb6a",
   "metadata": {},
   "outputs": [
    {
     "name": "stdout",
     "output_type": "stream",
     "text": [
      "float64\n"
     ]
    }
   ],
   "source": [
    "print(df['pub_year'].dtypes)"
   ]
  },
  {
   "cell_type": "code",
   "execution_count": 75,
   "id": "058460b8-fa4a-41ff-a4aa-2bd3741036d7",
   "metadata": {},
   "outputs": [
    {
     "data": {
      "text/plain": [
       "9"
      ]
     },
     "execution_count": 75,
     "metadata": {},
     "output_type": "execute_result"
    }
   ],
   "source": [
    "df_dropped = df[df['pub_year'] < 2014]\n",
    "df_dropped.shape[0]"
   ]
  },
  {
   "cell_type": "code",
   "execution_count": 76,
   "id": "fd3bf390-0a06-4c3b-a97d-481ff2038897",
   "metadata": {},
   "outputs": [
    {
     "data": {
      "text/plain": [
       "950"
      ]
     },
     "execution_count": 76,
     "metadata": {},
     "output_type": "execute_result"
    }
   ],
   "source": [
    "# Delete rows with year less than 2014\n",
    "df1 = df[df['pub_year'] >= 2014]\n",
    "df1.shape[0]"
   ]
  },
  {
   "cell_type": "code",
   "execution_count": 80,
   "id": "bead5eee-974a-4542-a9a4-163154095ff9",
   "metadata": {},
   "outputs": [
    {
     "data": {
      "text/plain": [
       "np.int64(41)"
      ]
     },
     "execution_count": 80,
     "metadata": {},
     "output_type": "execute_result"
    }
   ],
   "source": [
    "# Check for NaN values in the entire DataFrame\n",
    "na_mask = df['pub_year'].isna()\n",
    "na_mask.sum()\n"
   ]
  },
  {
   "cell_type": "code",
   "execution_count": 88,
   "id": "ff31a66f-c1c7-4af7-8c71-d3e5da170536",
   "metadata": {},
   "outputs": [
    {
     "name": "stdout",
     "output_type": "stream",
     "text": [
      "total papers = 41\n"
     ]
    },
    {
     "data": {
      "text/html": [
       "<div>\n",
       "<style scoped>\n",
       "    .dataframe tbody tr th:only-of-type {\n",
       "        vertical-align: middle;\n",
       "    }\n",
       "\n",
       "    .dataframe tbody tr th {\n",
       "        vertical-align: top;\n",
       "    }\n",
       "\n",
       "    .dataframe thead th {\n",
       "        text-align: right;\n",
       "    }\n",
       "</style>\n",
       "<table border=\"1\" class=\"dataframe\">\n",
       "  <thead>\n",
       "    <tr style=\"text-align: right;\">\n",
       "      <th></th>\n",
       "      <th>Unnamed: 0</th>\n",
       "      <th>title</th>\n",
       "      <th>author</th>\n",
       "      <th>pub_year</th>\n",
       "      <th>venue</th>\n",
       "      <th>abstract</th>\n",
       "    </tr>\n",
       "  </thead>\n",
       "  <tbody>\n",
       "    <tr>\n",
       "      <th>18</th>\n",
       "      <td>18</td>\n",
       "      <td>Association of mutations in the Plasmodium fal...</td>\n",
       "      <td>['BMC medicine']</td>\n",
       "      <td>NaN</td>\n",
       "      <td>NaN</td>\n",
       "      <td>Data were available for the whole pfk13 molecu...</td>\n",
       "    </tr>\n",
       "    <tr>\n",
       "      <th>109</th>\n",
       "      <td>109</td>\n",
       "      <td>MOLECULAR CHARACTERIZATION OF PLASMODIUM FALCI...</td>\n",
       "      <td>['TB AGUNBIADE', 'PA OKIKI', 'TS OBEMBE', 'JO ...</td>\n",
       "      <td>NaN</td>\n",
       "      <td>NaN</td>\n",
       "      <td>NaN</td>\n",
       "    </tr>\n",
       "    <tr>\n",
       "      <th>133</th>\n",
       "      <td>133</td>\n",
       "      <td>… , pfmdr1, pfdhfr, pfdhps and pfcrt Polymorph...</td>\n",
       "      <td>['SS Nundu', 'R Culleton', 'SV Simpson', 'H Ar...</td>\n",
       "      <td>NaN</td>\n",
       "      <td>… Republic of Congo</td>\n",
       "      <td>malaria control and elimination. This study 40...</td>\n",
       "    </tr>\n",
       "  </tbody>\n",
       "</table>\n",
       "</div>"
      ],
      "text/plain": [
       "     Unnamed: 0                                              title  \\\n",
       "18           18  Association of mutations in the Plasmodium fal...   \n",
       "109         109  MOLECULAR CHARACTERIZATION OF PLASMODIUM FALCI...   \n",
       "133         133  … , pfmdr1, pfdhfr, pfdhps and pfcrt Polymorph...   \n",
       "\n",
       "                                                author  pub_year  \\\n",
       "18                                    ['BMC medicine']       NaN   \n",
       "109  ['TB AGUNBIADE', 'PA OKIKI', 'TS OBEMBE', 'JO ...       NaN   \n",
       "133  ['SS Nundu', 'R Culleton', 'SV Simpson', 'H Ar...       NaN   \n",
       "\n",
       "                   venue                                           abstract  \n",
       "18                   NaN  Data were available for the whole pfk13 molecu...  \n",
       "109                  NaN                                                NaN  \n",
       "133  … Republic of Congo  malaria control and elimination. This study 40...  "
      ]
     },
     "execution_count": 88,
     "metadata": {},
     "output_type": "execute_result"
    }
   ],
   "source": [
    "df_null_pub_year = df[df['pub_year'].isna()]\n",
    "print('total papers =',df_null_pub_year.shape[0])\n",
    "df_null_pub_year.head(3)\n"
   ]
  },
  {
   "cell_type": "code",
   "execution_count": 59,
   "id": "acab2c75-52e3-4003-8077-6078d2a55554",
   "metadata": {},
   "outputs": [
    {
     "data": {
      "image/png": "[encoded data removed]",
      "text/plain": [
       "<Figure size 1000x600 with 1 Axes>"
      ]
     },
     "metadata": {},
     "output_type": "display_data"
    }
   ],
   "source": [
    "# Count the occurrences of each year\n",
    "year_counts = df1['pub_year'].value_counts().sort_index()\n",
    "\n",
    "# Plotting\n",
    "plt.figure(figsize=(10, 6))\n",
    "bars = plt.bar(year_counts.index, year_counts.values)\n",
    "\n",
    "# Adding count numbers on top of the bars\n",
    "for bar in bars:\n",
    "    yval = bar.get_height()\n",
    "    plt.text(bar.get_x() + bar.get_width() / 2, yval, int(yval), \n",
    "             ha='center', va='bottom')\n",
    "\n",
    "plt.title('Count of Each Year the paper was published')\n",
    "plt.xlabel('Year')\n",
    "plt.ylabel('Count')\n",
    "plt.xticks(rotation=45)\n",
    "plt.grid(axis='y')\n",
    "plt.show()\n"
   ]
  },
  {
   "cell_type": "code",
   "execution_count": 71,
   "id": "9de37e32-1c78-4432-b3d7-ba033f3c907f",
   "metadata": {},
   "outputs": [
    {
     "data": {
      "text/plain": [
       "np.int64(9)"
      ]
     },
     "execution_count": 71,
     "metadata": {},
     "output_type": "execute_result"
    }
   ],
   "source": [
    "#checking for duplicates in the title column\n",
    "df1['title'].duplicated().sum()"
   ]
  },
  {
   "cell_type": "code",
   "execution_count": 50,
   "id": "d8ea6b9f-8830-4725-a4a9-9909bda77066",
   "metadata": {},
   "outputs": [
    {
     "data": {
      "text/plain": [
       "941"
      ]
     },
     "execution_count": 50,
     "metadata": {},
     "output_type": "execute_result"
    }
   ],
   "source": [
    "df2= df1.drop_duplicates(subset='title')\n",
    "df2.shape[0]"
   ]
  },
  {
   "cell_type": "code",
   "execution_count": 90,
   "id": "7e209a05-1d22-43eb-97a2-6380e0852317",
   "metadata": {},
   "outputs": [],
   "source": [
    "# Get the duplicate rows\n",
    "#duplicate_rows = df[df['title'].duplicated(keep=False)]  # keep=False shows all duplicates\n",
    "#print(\"\\nDuplicate rows:\")\n",
    "#print(duplicate_rows)\n"
   ]
  },
  {
   "cell_type": "code",
   "execution_count": 64,
   "id": "0f4f5675-a3f9-4be3-afb5-2bf9dfe06864",
   "metadata": {},
   "outputs": [],
   "source": [
    "#duplicate_rows.to_csv(\"./duplictes1.csv\")"
   ]
  },
  {
   "cell_type": "markdown",
   "id": "75d40945-1950-4efe-bbce-8c74d694739a",
   "metadata": {},
   "source": [
    "#### getting the origin country"
   ]
  }
 ],
 "metadata": {
  "kernelspec": {
   "display_name": "Python 3 (ipykernel)",
   "language": "python",
   "name": "python3"
  },
  "language_info": {
   "codemirror_mode": {
    "name": "ipython",
    "version": 3
   },
   "file_extension": ".py",
   "mimetype": "text/x-python",
   "name": "python",
   "nbconvert_exporter": "python",
   "pygments_lexer": "ipython3",
   "version": "3.13.0"
  }
 },
 "nbformat": 4,
 "nbformat_minor": 5
}
